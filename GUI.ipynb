{
  "nbformat": 4,
  "nbformat_minor": 0,
  "metadata": {
    "colab": {
      "provenance": [],
      "authorship_tag": "ABX9TyNmjL4wqpmqZEfJ676ov2mM",
      "include_colab_link": true
    },
    "kernelspec": {
      "name": "python3",
      "display_name": "Python 3"
    },
    "language_info": {
      "name": "python"
    }
  },
  "cells": [
    {
      "cell_type": "markdown",
      "metadata": {
        "id": "view-in-github",
        "colab_type": "text"
      },
      "source": [
        "<a href=\"https://colab.research.google.com/github/JESEONGKANG/python/blob/main/GUI.ipynb\" target=\"_parent\"><img src=\"https://colab.research.google.com/assets/colab-badge.svg\" alt=\"Open In Colab\"/></a>"
      ]
    },
    {
      "cell_type": "code",
      "execution_count": null,
      "metadata": {
        "id": "Z4K_2-yriyAt"
      },
      "outputs": [],
      "source": [
        "import tkinter\n",
        "window = tkinter.Tk()\n",
        "\n",
        "window.title(\"GUI Program by JESEONGKANG\")\n",
        "window.geometry(\"640x400+100+100\")\n",
        "window.resizable(False, False)\n",
        "\n",
        "def btnClick():\n",
        "    label. config(font=(\"Arial\", 35))\n",
        "    label. config(text= \"안산공업고등학교 컴퓨터과\", fg= \"red\")\n",
        "\n",
        "label = tkinter.Label(window, text = \"안산공업고등학교\")\n",
        "label.pack()\n",
        "\n",
        "button = tkinter.Button(window, text= \"확인\", command = btnClick)\n",
        "button.pack()\n",
        "window.mainloop()"
      ]
    }
  ]
}