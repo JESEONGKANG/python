{
  "nbformat": 4,
  "nbformat_minor": 0,
  "metadata": {
    "colab": {
      "provenance": [],
      "authorship_tag": "ABX9TyNiboGZrxNF/veZ5vutSpe0",
      "include_colab_link": true
    },
    "kernelspec": {
      "name": "python3",
      "display_name": "Python 3"
    },
    "language_info": {
      "name": "python"
    }
  },
  "cells": [
    {
      "cell_type": "markdown",
      "metadata": {
        "id": "view-in-github",
        "colab_type": "text"
      },
      "source": [
        "<a href=\"https://colab.research.google.com/github/JESEONGKANG/python/blob/main/%EA%B3%BC%EC%A0%9C5.ipynb\" target=\"_parent\"><img src=\"https://colab.research.google.com/assets/colab-badge.svg\" alt=\"Open In Colab\"/></a>"
      ]
    },
    {
      "cell_type": "code",
      "execution_count": 5,
      "metadata": {
        "colab": {
          "base_uri": "https://localhost:8080/"
        },
        "id": "Yq0pbKoIVgSR",
        "outputId": "d64c3340-c662-404f-84c7-c833e4e949fe"
      },
      "outputs": [
        {
          "output_type": "stream",
          "name": "stdout",
          "text": [
            "정보처리기능사 실기 점수 입력:60\n",
            "합격\n",
            "축하합니다.\n"
          ]
        }
      ],
      "source": [
        "score = int(input(\"정보처리기능사 실기 점수 입력:\"))\n",
        "\n",
        "if score >= 60:\n",
        "  print(\"합격\")\n",
        "  print(\"축하합니다.\")\n",
        "else:\n",
        "    print(\"불합격\")"
      ]
    },
    {
      "cell_type": "code",
      "source": [
        "# 한줄 주석문 연습\n",
        "\"\"\"\n",
        "프로그래밍 수업: 3월 20일\n",
        "프로그래머: 강제성\n",
        "프로그램 최종 작성일: 3월 20일\n",
        "프로그램명: 학점 계산 프로그램\n",
        "\"\"\"\n",
        "print(\"파이썬(3): B(3.5) \\n\")\n",
        "print(\"모바일(2): AO(4.0) \\n\")\n",
        "print(\"엑셀(1): A(4.5)\")\n",
        "python = float(input(\"파이썬 성적을 입력(예, 3.5)\"))\n",
        "mobile = float(input(\"모바일 성적을 입력:\"))\n",
        "excel = float(input(\"엑셀 성적을 입력:\"))\n",
        "\n",
        "result = (python*3) + (mobile * 2) + excel\n",
        "avg = result/6\n",
        "\n",
        "print(\"평균 학점은\", round(avg, 3))\n"
      ],
      "metadata": {
        "colab": {
          "base_uri": "https://localhost:8080/"
        },
        "id": "tpFppYXwXbHX",
        "outputId": "0d5b7dcf-8cc1-4b85-aa34-2016388f9928"
      },
      "execution_count": 6,
      "outputs": [
        {
          "output_type": "stream",
          "name": "stdout",
          "text": [
            "파이썬(3): B(3.5) \n",
            "\n",
            "모바일(2): AO(4.0) \n",
            "\n",
            "엑셀(1): A(4.5)\n",
            "파이썬 성적을 입력(예, 3.5)5\n",
            "모바일 성적을 입력:6\n",
            "엑셀 성적을 입력:5\n",
            "평균 학점은 5.333\n"
          ]
        }
      ]
    },
    {
      "cell_type": "code",
      "source": [
        "print(\"\\n줄바꿈\\n연습\")\n",
        "print(\"\\t탭키\\t연습\")\n",
        "print(\"어떤 글자를 \\\"강조\\\" 하는 효과1\")\n",
        "print(\"어떤 글자를 \\'강조\\' 하는 효과2\")\n",
        "print(\"\\\\\\\\백 슬래시 2개 출력\")"
      ],
      "metadata": {
        "colab": {
          "base_uri": "https://localhost:8080/"
        },
        "id": "GUFZ2pfdcyAH",
        "outputId": "c30e2988-ca5c-4ffd-cba9-b02e47de5198"
      },
      "execution_count": 8,
      "outputs": [
        {
          "output_type": "stream",
          "name": "stdout",
          "text": [
            "\n",
            "줄바꿈\n",
            "연습\n",
            "\t탭키\t연습\n",
            "어떤 글자를 \"강조\" 하는 효과1\n",
            "어떤 글자를 '강조' 하는 효과2\n",
            "\\\\백 슬래시 2개 출력\n"
          ]
        }
      ]
    },
    {
      "cell_type": "code",
      "source": [
        "first = input(\"첫번째 문자열 ==>\")\n",
        "second = input(\"두번째 문자열 ==>\")\n",
        "\n",
        "len1 = len(first) - len(second)\n",
        "\n",
        "print(\"두 문자열의 길이 차이는\", len1, \"입니다.\")"
      ],
      "metadata": {
        "colab": {
          "base_uri": "https://localhost:8080/"
        },
        "id": "dH7634d7d4kn",
        "outputId": "f262647c-02f0-4d61-8779-036b2e8ea13b"
      },
      "execution_count": 9,
      "outputs": [
        {
          "output_type": "stream",
          "name": "stdout",
          "text": [
            "첫번째 문자열 ==>30\n",
            "두번째 문자열 ==>20\n",
            "두 문자열의 길이 차이는 0 입니다.\n"
          ]
        }
      ]
    },
    {
      "cell_type": "code",
      "source": [
        "str1 = \"\"\"\n",
        "안산공업고등학교 컴퓨터과, 안산공업고등학교는\n",
        "기계과, 전기과, 전자과, 화공과, 디자인과, 컴퓨터과로 총 6개의\n",
        "과로 이뤄져있습니다.\n",
        "\"\"\"\n",
        "strLen = str1.count(\"안산\")\n",
        "print(strLen)"
      ],
      "metadata": {
        "colab": {
          "base_uri": "https://localhost:8080/"
        },
        "id": "9c28TVOYi-nP",
        "outputId": "21d450a2-a519-4730-dbea-c50db590842a"
      },
      "execution_count": 10,
      "outputs": [
        {
          "output_type": "stream",
          "name": "stdout",
          "text": [
            "2\n"
          ]
        }
      ]
    },
    {
      "cell_type": "code",
      "source": [
        "# Let it be 가사가 몇번 나오는지 확인하는 프로그램\n",
        "# upper(), lower()\n",
        "\n",
        "lyrics= \"\"\"\n",
        "When I find myself in times of trouble, Mother Mary comes to me\n",
        "Speaking words of wisdom, let it be\n",
        "And in my hour of darkness she is standing right in front of me\n",
        "Speaking words of wisdom, let it be\n",
        "Let it be, let it be, let it be, let it be\n",
        "Whisper words of wisdom, let it be\n",
        "And when the broken hearted people living in the world agree\n",
        "There will be an answer, let it be\n",
        "For though they may be parted, there is still a chance that they will see\n",
        "There will be an answer, let it be\n",
        "Let it be, let it be, let it be, let it be\n",
        "There will be an answer, let it be\n",
        "Let it be, let it be, let it be, let it be\n",
        "Whisper words of wisdom, let it be\n",
        "Let it be, let it be, let it be, let it be\n",
        "Whisper words of wisdom, let it be, be\n",
        "And when the night is cloudy there is still a light that shines on me\n",
        "Shinin' until tomorrow, let it be\n",
        "I wake up to the sound of music, Mother Mary comes to me\n",
        "Speaking words of wisdom, let it be\n",
        "And let it be, let it be, let it be, let it be\n",
        "Whisper words of wisdom, let it be\n",
        "And let it be, let it be, let it be, let it be\n",
        "Whisper words of wisdom, let it be\n",
        "\"\"\"\n",
        "lyrics = lyrics.upper()\n",
        "strLen = lyrics.count(\"LET IT BE\")\n",
        "print(\"Let it be는 총\", strLen, \"번 나옵니다.\")"
      ],
      "metadata": {
        "colab": {
          "base_uri": "https://localhost:8080/"
        },
        "id": "J05KavDWk4xA",
        "outputId": "005cc56c-6758-4b40-bdd5-870e54b3dab6"
      },
      "execution_count": 20,
      "outputs": [
        {
          "output_type": "stream",
          "name": "stdout",
          "text": [
            "Let it be는 총 36 번 나옵니다.\n"
          ]
        }
      ]
    }
  ]
}