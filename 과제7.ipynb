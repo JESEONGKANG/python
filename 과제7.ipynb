{
  "nbformat": 4,
  "nbformat_minor": 0,
  "metadata": {
    "colab": {
      "provenance": [],
      "authorship_tag": "ABX9TyN2ZkK+sbUB6qeiROj8VdLr",
      "include_colab_link": true
    },
    "kernelspec": {
      "name": "python3",
      "display_name": "Python 3"
    },
    "language_info": {
      "name": "python"
    }
  },
  "cells": [
    {
      "cell_type": "markdown",
      "metadata": {
        "id": "view-in-github",
        "colab_type": "text"
      },
      "source": [
        "<a href=\"https://colab.research.google.com/github/JESEONGKANG/python/blob/main/%EA%B3%BC%EC%A0%9C7.ipynb\" target=\"_parent\"><img src=\"https://colab.research.google.com/assets/colab-badge.svg\" alt=\"Open In Colab\"/></a>"
      ]
    },
    {
      "cell_type": "code",
      "execution_count": 1,
      "metadata": {
        "colab": {
          "base_uri": "https://localhost:8080/"
        },
        "id": "6l93rvT4Xbui",
        "outputId": "09b5f1e1-d524-4af8-c051-01dc15c96df5"
      },
      "outputs": [
        {
          "output_type": "stream",
          "name": "stdout",
          "text": [
            "100보다 큽니다.\n",
            "프로그램\n",
            "끝\n"
          ]
        }
      ],
      "source": [
        "num = 200\n",
        "if num > 100:\n",
        "  print(\"100보다 큽니다.\")\n",
        "  print(\"프로그램\")\n",
        "  print(\"끝\")"
      ]
    },
    {
      "cell_type": "code",
      "source": [
        "num = int(input(\"정수를 입력 :\"))\n",
        "if num%2 == 0 :\n",
        "  print(\"짝수\")\n",
        "  print(\"입니다\")\n",
        "else :\n",
        "  print(\"홀수\")\n"
      ],
      "metadata": {
        "colab": {
          "base_uri": "https://localhost:8080/"
        },
        "id": "WvMLmrQjYNzF",
        "outputId": "ac50b6bd-c247-482b-a8c3-55e11272e98a"
      },
      "execution_count": 4,
      "outputs": [
        {
          "output_type": "stream",
          "name": "stdout",
          "text": [
            "정수를 입력 :100\n",
            "짝수\n",
            "입니다\n"
          ]
        }
      ]
    },
    {
      "cell_type": "code",
      "source": [
        "num = int(input(\"숫자를 입력:\"))\n",
        "if num >= 100 :\n",
        "  if num <= 1000 :\n",
        "    print(\"100에서 1000사이다.\")\n",
        "  else :\n",
        "    print(\"1000보다 크다\")\n",
        "else :\n",
        "    print(\"100보다 작다\")"
      ],
      "metadata": {
        "colab": {
          "base_uri": "https://localhost:8080/"
        },
        "id": "rUa6qV3vZYZ8",
        "outputId": "0bf0467a-7de4-44ee-df96-53df9dc632c7"
      },
      "execution_count": 2,
      "outputs": [
        {
          "output_type": "stream",
          "name": "stdout",
          "text": [
            "숫자를 입력:1001\n",
            "1000보다 크다\n"
          ]
        }
      ]
    },
    {
      "cell_type": "code",
      "source": [
        "score = int(input(\"점수를 입력 ==>\"))\n",
        "\n",
        "if score >= 90 :\n",
        "  print(\"A\", end='')\n",
        "else :\n",
        "  if score >= 80 :\n",
        "    print(\"B\", end='')\n",
        "  else :\n",
        "    if score >= 70 :\n",
        "       print(\"C\", end='')\n",
        "    else :\n",
        "      if score >= 60 :\n",
        "        print(\"D\", end='')\n",
        "      else :\n",
        "        print(\"F\", end='')\n",
        "print(\"학점입니다.\")"
      ],
      "metadata": {
        "colab": {
          "base_uri": "https://localhost:8080/"
        },
        "id": "Xcu0ZD0SdpOz",
        "outputId": "f8201ddc-67ab-4da0-88fe-60d11fe5b5ef"
      },
      "execution_count": 5,
      "outputs": [
        {
          "output_type": "stream",
          "name": "stdout",
          "text": [
            "점수를 입력 ==>85\n",
            "B학점입니다.\n"
          ]
        }
      ]
    }
  ]
}