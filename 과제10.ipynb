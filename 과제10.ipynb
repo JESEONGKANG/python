{
  "nbformat": 4,
  "nbformat_minor": 0,
  "metadata": {
    "colab": {
      "provenance": [],
      "authorship_tag": "ABX9TyO0pxg2twYMeOBreJsL+qWR",
      "include_colab_link": true
    },
    "kernelspec": {
      "name": "python3",
      "display_name": "Python 3"
    },
    "language_info": {
      "name": "python"
    }
  },
  "cells": [
    {
      "cell_type": "markdown",
      "metadata": {
        "id": "view-in-github",
        "colab_type": "text"
      },
      "source": [
        "<a href=\"https://colab.research.google.com/github/JESEONGKANG/python/blob/main/%EA%B3%BC%EC%A0%9C10.ipynb\" target=\"_parent\"><img src=\"https://colab.research.google.com/assets/colab-badge.svg\" alt=\"Open In Colab\"/></a>"
      ]
    },
    {
      "cell_type": "code",
      "execution_count": 5,
      "metadata": {
        "colab": {
          "base_uri": "https://localhost:8080/"
        },
        "id": "uACWVXOwQCJW",
        "outputId": "3abd683a-1769-49d1-cac3-7d56ccedfd0c"
      },
      "outputs": [
        {
          "output_type": "stream",
          "name": "stdout",
          "text": [
            "주사위 3개가 모두 1 이다.\n",
            "같은 숫자가 나오기 까지 5 번 던졌다.\n"
          ]
        }
      ],
      "source": [
        "import random\n",
        "count = 0\n",
        "while True:\n",
        "  dice1 = random. randint(1,6)\n",
        "  dice2 = random. randint(1,6)\n",
        "  dice3 = random. randint(1,6)\n",
        "  count = count + 1\n",
        "  if dice1 == dice2 == dice3:\n",
        "    print(\"주사위 3개가 모두\", dice1, \"이다.\")\n",
        "    print(\"같은 숫자가 나오기 까지\", count, \"번 던졌다.\")\n",
        "    break"
      ]
    },
    {
      "cell_type": "code",
      "source": [
        "import random\n",
        "computer, user = 0,0\n",
        "\n",
        "for i in range(1, 11):\n",
        "  computer = random.randint(1,5)\n",
        "  print(\"게임\", i, \"회:\", end= ' ')\n",
        "  user = int(input(\"컴퓨터가 생각한 숫자는?\"))\n",
        "\n",
        "  if computer == user:\n",
        "    print(\"맞혔네요. 축하합니다!!\")\n",
        "    break\n",
        "  else:\n",
        "    print(\"아까워요.\", computer, \"였는데요. 다시 해보세요.ㅠ\")\n",
        "    continue\n",
        "print(\"게임을 마칩니다.\")"
      ],
      "metadata": {
        "colab": {
          "base_uri": "https://localhost:8080/"
        },
        "id": "LgUsHKoASSlW",
        "outputId": "b7a2366b-ec79-4873-cc47-4c6e2485d793"
      },
      "execution_count": 11,
      "outputs": [
        {
          "output_type": "stream",
          "name": "stdout",
          "text": [
            "게임 1 회: 컴퓨터가 생각한 숫자는?3\n",
            "아까워요. 2 였는데요. 다시 해보세요.ㅠ\n",
            "게임 2 회: 컴퓨터가 생각한 숫자는?5\n",
            "아까워요. 3 였는데요. 다시 해보세요.ㅠ\n",
            "게임 3 회: 컴퓨터가 생각한 숫자는?4\n",
            "아까워요. 2 였는데요. 다시 해보세요.ㅠ\n",
            "게임 4 회: 컴퓨터가 생각한 숫자는?5\n",
            "아까워요. 1 였는데요. 다시 해보세요.ㅠ\n",
            "게임 5 회: 컴퓨터가 생각한 숫자는?1\n",
            "아까워요. 5 였는데요. 다시 해보세요.ㅠ\n",
            "게임 6 회: 컴퓨터가 생각한 숫자는?3\n",
            "맞혔네요. 축하합니다!!\n",
            "게임을 마칩니다.\n"
          ]
        }
      ]
    },
    {
      "cell_type": "code",
      "source": [
        "import random\n",
        "secret_number = random.sample(range(1,10), 3) # range()\n",
        "print(secret_number)\n",
        "print(secret_number[0])\n",
        "print(secret_number[1])\n",
        "print(secret_number[2])"
      ],
      "metadata": {
        "colab": {
          "base_uri": "https://localhost:8080/"
        },
        "id": "YCKo9YIeZot8",
        "outputId": "f339139d-8ddd-4f38-be51-4f535ef3c719"
      },
      "execution_count": 12,
      "outputs": [
        {
          "output_type": "stream",
          "name": "stdout",
          "text": [
            "[6, 2, 7]\n",
            "6\n",
            "2\n",
            "7\n"
          ]
        }
      ]
    },
    {
      "cell_type": "code",
      "source": [
        "import random\n",
        "game_count = 1\n",
        "secret_number = random.sample(range(1,10),3) # range()\n",
        "print(secret_number)\n",
        "while game_count <= 10 :\n",
        "  strike = 0\n",
        "  ball = 0\n",
        "  player_number = input(\"3자리 숫자를 입력 :\")\n",
        "  player_number = list(player_number)\n",
        "  player_number[0] = int(player_number[0])\n",
        "  player_number[1] = int(player_number[1])\n",
        "  player_number[2] = int(player_number[2])\n",
        "\n",
        "  if (secret_number[0] == player_number[0]) :\n",
        "    strike = strike + 1\n",
        "  elif player_number[0] in secret_number :\n",
        "    ball = ball + 1\n",
        "  if (secret_number[1] == player_number[1]) :\n",
        "    strike = strike + 1\n",
        "  elif player_number[1] in secret_number :\n",
        "    ball = ball + 1\n",
        "  if (secret_number[2] == player_number[2]) :\n",
        "    strike = strike + 1\n",
        "  elif player_number[2] in secret_number :\n",
        "    ball = ball + 1\n",
        "     \n",
        "  print(strike, \"-스트라이크  //  \", ball, \"-볼\")\n",
        "  if strike == 3 :\n",
        "     print(\"맞췄습니다 ^0^\")\n",
        "     break"
      ],
      "metadata": {
        "colab": {
          "base_uri": "https://localhost:8080/"
        },
        "id": "QBEc25o0jib0",
        "outputId": "165c8067-358e-45c6-ef61-a73a9ba23e84"
      },
      "execution_count": null,
      "outputs": [
        {
          "output_type": "stream",
          "name": "stdout",
          "text": [
            "[5, 9, 6]\n",
            "3자리 숫자를 입력 :123\n",
            "0 -스트라이크  //   0 -볼\n",
            "3자리 숫자를 입력 :569\n",
            "1 -스트라이크  //   2 -볼\n"
          ]
        }
      ]
    }
  ]
}