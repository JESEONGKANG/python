{
  "nbformat": 4,
  "nbformat_minor": 0,
  "metadata": {
    "colab": {
      "provenance": [],
      "authorship_tag": "ABX9TyMJMJXhqBvHy37csQPEVnwo",
      "include_colab_link": true
    },
    "kernelspec": {
      "name": "python3",
      "display_name": "Python 3"
    },
    "language_info": {
      "name": "python"
    }
  },
  "cells": [
    {
      "cell_type": "markdown",
      "metadata": {
        "id": "view-in-github",
        "colab_type": "text"
      },
      "source": [
        "<a href=\"https://colab.research.google.com/github/JESEONGKANG/python/blob/main/0310.ipynb\" target=\"_parent\"><img src=\"https://colab.research.google.com/assets/colab-badge.svg\" alt=\"Open In Colab\"/></a>"
      ]
    },
    {
      "cell_type": "markdown",
      "source": [
        "컴퓨터과 3학년 1반  \n",
        "강제성"
      ],
      "metadata": {
        "id": "1QxV_hx5G2Rq"
      }
    },
    {
      "cell_type": "code",
      "source": [
        "print(\"오늘은 금요일\")\n",
        "print(\"나 혼자 심심해\")"
      ],
      "metadata": {
        "colab": {
          "base_uri": "https://localhost:8080/"
        },
        "id": "MIHI7xh9GYQS",
        "outputId": "2c64eed6-80b5-4fbd-eed0-162a6441b862"
      },
      "execution_count": 1,
      "outputs": [
        {
          "output_type": "stream",
          "name": "stdout",
          "text": [
            "오늘은 금요일\n",
            "나 혼자 심심해\n"
          ]
        }
      ]
    },
    {
      "cell_type": "code",
      "source": [
        "a = 100\n",
        "b = 200\n",
        "c = a + b\n",
        "print(a, \"+\", b, \"=\", c)"
      ],
      "metadata": {
        "colab": {
          "base_uri": "https://localhost:8080/"
        },
        "id": "KugoiI4jKK0x",
        "outputId": "fad3c44d-2a99-4dcb-f02f-5310e0e14dcd"
      },
      "execution_count": 3,
      "outputs": [
        {
          "output_type": "stream",
          "name": "stdout",
          "text": [
            "100 + 200 = 300\n"
          ]
        }
      ]
    }
  ]
}