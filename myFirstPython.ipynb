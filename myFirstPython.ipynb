{
  "nbformat": 4,
  "nbformat_minor": 0,
  "metadata": {
    "colab": {
      "provenance": [],
      "authorship_tag": "ABX9TyO7tQcErjTwa5YsAwznGiVZ",
      "include_colab_link": true
    },
    "kernelspec": {
      "name": "python3",
      "display_name": "Python 3"
    },
    "language_info": {
      "name": "python"
    }
  },
  "cells": [
    {
      "cell_type": "markdown",
      "metadata": {
        "id": "view-in-github",
        "colab_type": "text"
      },
      "source": [
        "<a href=\"https://colab.research.google.com/github/JESEONGKANG/python/blob/main/myFirstPython.ipynb\" target=\"_parent\"><img src=\"https://colab.research.google.com/assets/colab-badge.svg\" alt=\"Open In Colab\"/></a>"
      ]
    },
    {
      "cell_type": "markdown",
      "source": [
        "2023학년도 응용프로그래밍 화면구현  \n",
        "파이썬 기초"
      ],
      "metadata": {
        "id": "2HzzXwfJURrD"
      }
    },
    {
      "cell_type": "code",
      "source": [
        "print(\"안산공업고등학교\")\n",
        "print(\"컴퓨터과 3학년 1반 1번 강제성\")\n",
        "print(\"파이썬 기초 수업\")"
      ],
      "metadata": {
        "colab": {
          "base_uri": "https://localhost:8080/"
        },
        "id": "_0lgBBG-ilXw",
        "outputId": "caaa8f82-fbb7-4966-c847-b7ad94b25b5d"
      },
      "execution_count": 6,
      "outputs": [
        {
          "output_type": "stream",
          "name": "stdout",
          "text": [
            "안산공업고등학교\n",
            "컴퓨터과 3학년 1반 1번 강제성\n",
            "파이썬 기초 수업\n"
          ]
        }
      ]
    }
  ]
}