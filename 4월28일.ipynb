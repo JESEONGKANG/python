{
  "nbformat": 4,
  "nbformat_minor": 0,
  "metadata": {
    "colab": {
      "provenance": [],
      "authorship_tag": "ABX9TyMoXgSa50HwUTJQRVrwO6e8",
      "include_colab_link": true
    },
    "kernelspec": {
      "name": "python3",
      "display_name": "Python 3"
    },
    "language_info": {
      "name": "python"
    }
  },
  "cells": [
    {
      "cell_type": "markdown",
      "metadata": {
        "id": "view-in-github",
        "colab_type": "text"
      },
      "source": [
        "<a href=\"https://colab.research.google.com/github/JESEONGKANG/python/blob/main/4%EC%9B%9428%EC%9D%BC.ipynb\" target=\"_parent\"><img src=\"https://colab.research.google.com/assets/colab-badge.svg\" alt=\"Open In Colab\"/></a>"
      ]
    },
    {
      "cell_type": "code",
      "execution_count": null,
      "metadata": {
        "id": "xG03iPXtc4CY"
      },
      "outputs": [],
      "source": [
        "import tkinter\n",
        "\n",
        "window.title(\"미래의 아내는?\")\n",
        "window.geometry(\"500x400\")\n",
        "window.resizable(False, False)\n",
        "\n",
        "image = tkinter. PhotoImage(file= \"1.gif\")\n",
        "label = tkinter. Label(window. image=image)\n",
        "label.pack()\n",
        "\n",
        "window.mainloop()"
      ]
    }
  ]
}