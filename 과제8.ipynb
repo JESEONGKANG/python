{
  "nbformat": 4,
  "nbformat_minor": 0,
  "metadata": {
    "colab": {
      "provenance": [],
      "authorship_tag": "ABX9TyMhmFdyzo8/bE27ssH/V95K",
      "include_colab_link": true
    },
    "kernelspec": {
      "name": "python3",
      "display_name": "Python 3"
    },
    "language_info": {
      "name": "python"
    }
  },
  "cells": [
    {
      "cell_type": "markdown",
      "metadata": {
        "id": "view-in-github",
        "colab_type": "text"
      },
      "source": [
        "<a href=\"https://colab.research.google.com/github/JESEONGKANG/python/blob/main/%EA%B3%BC%EC%A0%9C8.ipynb\" target=\"_parent\"><img src=\"https://colab.research.google.com/assets/colab-badge.svg\" alt=\"Open In Colab\"/></a>"
      ]
    },
    {
      "cell_type": "code",
      "execution_count": 7,
      "metadata": {
        "colab": {
          "base_uri": "https://localhost:8080/"
        },
        "id": "E4s6CHh2Xa2c",
        "outputId": "9802da42-cf97-46e4-8152-05130ee2dcff"
      },
      "outputs": [
        {
          "output_type": "stream",
          "name": "stdout",
          "text": [
            "34\n"
          ]
        }
      ],
      "source": [
        "import random\n",
        "\n",
        "rndNumber = random. randint(1, 45)\n",
        "\n",
        "print(rndNumber)"
      ]
    },
    {
      "cell_type": "code",
      "source": [
        "import random\n",
        "lottoNumber = [0,0,0,0,0,0]\n",
        "\n",
        "for i in range(6):\n",
        "  lottoNumber[i] = random. randint(1, 45)\n",
        "for i in range(6):\n",
        "  print(lottoNumber[i], end = \" \") "
      ],
      "metadata": {
        "colab": {
          "base_uri": "https://localhost:8080/"
        },
        "id": "55s5RxCuZF2a",
        "outputId": "54d30284-70ac-4bef-8fad-5bdedc1e929d"
      },
      "execution_count": 11,
      "outputs": [
        {
          "output_type": "stream",
          "name": "stdout",
          "text": [
            "2 38 1 26 34 30 "
          ]
        }
      ]
    },
    {
      "cell_type": "code",
      "source": [
        "import random\n",
        "\n",
        "foods = [\"떡볶이\", \"순대\", \"소고기\", \"쿠키\", \"라면\"]\n",
        "\n",
        "result = random. choice(foods)\n",
        "print(result)"
      ],
      "metadata": {
        "colab": {
          "base_uri": "https://localhost:8080/"
        },
        "id": "n94H-16_cZSp",
        "outputId": "3e1db11c-953b-4af9-9f2c-f37ebcec0973"
      },
      "execution_count": 15,
      "outputs": [
        {
          "output_type": "stream",
          "name": "stdout",
          "text": [
            "쿠키\n"
          ]
        }
      ]
    },
    {
      "cell_type": "code",
      "source": [
        "import random\n",
        "computer = \"\"\n",
        "player = input(\"나의 가위/바위/보 :\")\n",
        "computer = random. choice([\"가위\", \"바위\", \"보\"])\n",
        "if computer == player :\n",
        "  print(\"비겼다\")\n",
        "elif (player == \"가위\" and computer == \"보\") or \\\n",
        "(player == \"바위\" and computer == \"가위\") or \\\n",
        "(player == \"보\" and computer == \"바위\") :\n",
        " print(computer, \"이겼다.\")\n",
        "else:\n",
        " print(player, computer)"
      ],
      "metadata": {
        "colab": {
          "base_uri": "https://localhost:8080/"
        },
        "id": "DtlaXcoMc6_J",
        "outputId": "508e81e1-4b72-4adc-a0ff-000daebfb3e1"
      },
      "execution_count": 29,
      "outputs": [
        {
          "output_type": "stream",
          "name": "stdout",
          "text": [
            "나의 가위/바위/보 :보\n",
            "바위 이겼다.\n"
          ]
        }
      ]
    }
  ]
}