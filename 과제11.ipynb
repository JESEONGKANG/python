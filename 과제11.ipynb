{
  "nbformat": 4,
  "nbformat_minor": 0,
  "metadata": {
    "colab": {
      "provenance": [],
      "authorship_tag": "ABX9TyOGZ+I5nR4VSUiNPnOc/eAm",
      "include_colab_link": true
    },
    "kernelspec": {
      "name": "python3",
      "display_name": "Python 3"
    },
    "language_info": {
      "name": "python"
    }
  },
  "cells": [
    {
      "cell_type": "markdown",
      "metadata": {
        "id": "view-in-github",
        "colab_type": "text"
      },
      "source": [
        "<a href=\"https://colab.research.google.com/github/JESEONGKANG/python/blob/main/%EA%B3%BC%EC%A0%9C11.ipynb\" target=\"_parent\"><img src=\"https://colab.research.google.com/assets/colab-badge.svg\" alt=\"Open In Colab\"/></a>"
      ]
    },
    {
      "cell_type": "code",
      "source": [
        "myList = []\n",
        "\n",
        "myList. append(\"안산\")\n",
        "myList. append(\"공고\")\n",
        "myList. append(3100)\n",
        "myList. append(777)\n",
        "\n",
        "print(myList)"
      ],
      "metadata": {
        "colab": {
          "base_uri": "https://localhost:8080/"
        },
        "id": "XYxoJuqrtcsh",
        "outputId": "0becb15d-bf47-4a4e-c5b9-18ff3f7febb6"
      },
      "execution_count": 4,
      "outputs": [
        {
          "output_type": "stream",
          "name": "stdout",
          "text": [
            "['안산', '공고', 3100, 777]\n"
          ]
        }
      ]
    },
    {
      "cell_type": "code",
      "source": [
        "numList = [0,0,0,0,0]\n",
        "\n",
        "numList[0] = int(input(\"숫자: \"))\n",
        "numList[1] = int(input(\"숫자: \"))\n",
        "numList[2] = int(input(\"숫자: \"))\n",
        "numList[3] = int(input(\"숫자: \"))\n",
        "numList[4] = int(input(\"숫자: \"))\n",
        "\n",
        "sum = numList[0] + numList[1] + numList[2] + numList[3] + numList[4]\n",
        "print(sum)"
      ],
      "metadata": {
        "colab": {
          "base_uri": "https://localhost:8080/"
        },
        "id": "PTHYyQAeulrQ",
        "outputId": "fe3f7e38-9a77-499d-8745-f3b14f407544"
      },
      "execution_count": 10,
      "outputs": [
        {
          "output_type": "stream",
          "name": "stdout",
          "text": [
            "숫자: 5\n",
            "숫자: 4\n",
            "숫자: 3\n",
            "숫자: 2\n",
            "숫자: 1\n",
            "15\n"
          ]
        }
      ]
    },
    {
      "cell_type": "code",
      "source": [
        "import random\n",
        "wiseSay = [\"중요한 것은 꺽이지 않는 마음이다\",\n",
        "           \"너 자신을 알라\",\n",
        "           \"피할 수 없으면 즐겨라\",\n",
        "           \"신은 용기있는 자를 결코 버리지 않는다.\",\n",
        "           \"내일은 내일의 태양이 뜬다.\",\n",
        "           \"이 또한 지나가리라.\"]\n",
        "\n",
        "rnd_say= random. sample(wiseSay, 1)\n",
        "print(\"오늘의 명언 ==>\", rnd_say)"
      ],
      "metadata": {
        "colab": {
          "base_uri": "https://localhost:8080/"
        },
        "id": "1tblNyYYv0n5",
        "outputId": "01c2a665-cf27-4d74-aa6e-3ca1c749e7c1"
      },
      "execution_count": 30,
      "outputs": [
        {
          "output_type": "stream",
          "name": "stdout",
          "text": [
            "오늘의 명언 ==> ['중요한 것은 꺽이지 않는 마음이다']\n"
          ]
        }
      ]
    },
    {
      "cell_type": "code",
      "source": [
        "import datetime\n",
        "\n",
        "now= datetime.date.today()\n",
        "d_day= datetime.date(2023, 11, 16)\n",
        "d_day = d_day - now\n",
        "print(d_day.days)"
      ],
      "metadata": {
        "colab": {
          "base_uri": "https://localhost:8080/"
        },
        "id": "Wg4qAg_MztiB",
        "outputId": "69ead8f1-fbb3-42fa-e252-69e1496646ee"
      },
      "execution_count": 33,
      "outputs": [
        {
          "output_type": "stream",
          "name": "stdout",
          "text": [
            "220\n"
          ]
        }
      ]
    }
  ]
}